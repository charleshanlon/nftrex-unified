{
 "cells": [
  {
   "cell_type": "markdown",
   "metadata": {},
   "source": [
    "# Hedera NFT Reccomendation System data gathering\n",
    "DSC 478 Hanlon & Ustura (Data last pulled from the Hedera Mirror Node API on 11/17/2023)"
   ]
  },
  {
   "cell_type": "code",
   "execution_count": 1,
   "metadata": {},
   "outputs": [],
   "source": [
    "import pandas as pd\n",
    "import numpy as np\n",
    "import json"
   ]
  },
  {
   "cell_type": "markdown",
   "metadata": {},
   "source": [
    "Read in data from gather.js output files and save a file of unique accounts"
   ]
  },
  {
   "cell_type": "code",
   "execution_count": 2,
   "metadata": {},
   "outputs": [
    {
     "name": "stdout",
     "output_type": "stream",
     "text": [
      "Unique Accounts: 632203\n"
     ]
    }
   ],
   "source": [
    "accounts = {}\n",
    "\n",
    "chunk_size = 10000\n",
    "\n",
    "# read file in chunks and collect unique account along with their token balances\n",
    "for chunk in pd.read_csv('balances.txt', chunksize=chunk_size, header=None, names=['account_id', 'token_id', 'balance']):\n",
    "    for _, row in chunk.iterrows():\n",
    "        account_id = row['account_id']\n",
    "        token_id = row['token_id']\n",
    "        balance = row['balance']\n",
    "        if account_id not in accounts:\n",
    "            accounts[account_id] = {}\n",
    "        if token_id not in accounts[account_id]:\n",
    "            accounts[account_id][token_id] = 0\n",
    "        accounts[account_id][token_id] += balance\n",
    "\n",
    "print('Unique Accounts:', len(accounts))\n",
    "\n",
    "# Save the unique account to a file\n",
    "with open('unique_accounts.txt', 'w') as file:\n",
    "    for account_id in accounts:\n",
    "        file.write(account_id + '\\n')"
   ]
  },
  {
   "cell_type": "markdown",
   "metadata": {},
   "source": [
    "Load all qualifying tokens from json file"
   ]
  },
  {
   "cell_type": "code",
   "execution_count": 3,
   "metadata": {},
   "outputs": [
    {
     "name": "stdout",
     "output_type": "stream",
     "text": [
      "Unique Tokens: 1404\n"
     ]
    }
   ],
   "source": [
    "with open('all_tokens.json', 'r') as json_file:\n",
    "    tokens = json.load(json_file)\n",
    "\n",
    "print('Unique Tokens:', len(tokens))"
   ]
  },
  {
   "cell_type": "markdown",
   "metadata": {},
   "source": [
    "Testing an account against the network to make sure data is accurate"
   ]
  },
  {
   "cell_type": "code",
   "execution_count": 4,
   "metadata": {},
   "outputs": [
    {
     "name": "stdout",
     "output_type": "stream",
     "text": [
      "8\n",
      "Token ID:  0.0.511406, Balance: 39\n",
      "Token ID:  0.0.511414, Balance: 32\n",
      "Token ID:  0.0.562847, Balance: 13\n",
      "Token ID:  0.0.563000, Balance: 13\n",
      "Token ID:  0.0.600311, Balance: 32\n",
      "Token ID:  0.0.600321, Balance: 30\n",
      "Token ID:  0.0.911740, Balance: 654\n",
      "Token ID:  0.0.1099364, Balance: 37\n"
     ]
    }
   ],
   "source": [
    "my_account = accounts['0.0.509323']\n",
    "print(len(my_account))\n",
    "for token_id, balance in my_account.items():\n",
    "    print(f\"Token ID: {token_id}, Balance: {balance}\")"
   ]
  },
  {
   "cell_type": "markdown",
   "metadata": {},
   "source": [
    "Drop Accounts if less than 5 unique tokens owned or if a token balance exceeds or equals 500"
   ]
  },
  {
   "cell_type": "code",
   "execution_count": 5,
   "metadata": {},
   "outputs": [
    {
     "name": "stdout",
     "output_type": "stream",
     "text": [
      "Unique Accounts: 15760\n"
     ]
    }
   ],
   "source": [
    "to_delete = []\n",
    "to_delete_2 = []\n",
    "for account in accounts:\n",
    "    curr = accounts[account]\n",
    "    if len(curr) < 5:\n",
    "        to_delete.append(account)\n",
    "        #print(account, len(curr))\n",
    "\n",
    "for acct_to_del in to_delete:\n",
    "    del accounts[acct_to_del]\n",
    "\n",
    "for account in accounts:\n",
    "    curr = accounts[account]\n",
    "    for token, bal in curr.items():\n",
    "        if bal >= 500:\n",
    "            #print(account, token, bal)\n",
    "            if account not in to_delete_2:\n",
    "                to_delete_2.append(account)\n",
    "\n",
    "for acct_to_del2 in to_delete_2:\n",
    "    del accounts[acct_to_del2]\n",
    "\n",
    "print('Unique Accounts:', len(accounts))"
   ]
  },
  {
   "cell_type": "markdown",
   "metadata": {},
   "source": [
    "Check + add name"
   ]
  },
  {
   "cell_type": "code",
   "execution_count": 6,
   "metadata": {},
   "outputs": [
    {
     "name": "stdout",
     "output_type": "stream",
     "text": [
      "1405\n",
      "['account id', '0.0.475254', '0.0.475255']\n"
     ]
    }
   ],
   "source": [
    "tokens.insert(0, 'account id')\n",
    "print(len(tokens))\n",
    "print(tokens[:3])\n"
   ]
  },
  {
   "cell_type": "markdown",
   "metadata": {},
   "source": [
    "Write header to csv"
   ]
  },
  {
   "cell_type": "code",
   "execution_count": 7,
   "metadata": {},
   "outputs": [
    {
     "data": {
      "text/html": [
       "<div>\n",
       "<style scoped>\n",
       "    .dataframe tbody tr th:only-of-type {\n",
       "        vertical-align: middle;\n",
       "    }\n",
       "\n",
       "    .dataframe tbody tr th {\n",
       "        vertical-align: top;\n",
       "    }\n",
       "\n",
       "    .dataframe thead th {\n",
       "        text-align: right;\n",
       "    }\n",
       "</style>\n",
       "<table border=\"1\" class=\"dataframe\">\n",
       "  <thead>\n",
       "    <tr style=\"text-align: right;\">\n",
       "      <th></th>\n",
       "      <th>account id</th>\n",
       "      <th>0.0.475254</th>\n",
       "      <th>0.0.475255</th>\n",
       "      <th>0.0.475256</th>\n",
       "      <th>0.0.488087</th>\n",
       "      <th>0.0.495216</th>\n",
       "      <th>0.0.497204</th>\n",
       "      <th>0.0.505777</th>\n",
       "      <th>0.0.506899</th>\n",
       "      <th>0.0.508627</th>\n",
       "      <th>...</th>\n",
       "      <th>0.0.6399048</th>\n",
       "      <th>0.0.6413488</th>\n",
       "      <th>0.0.6446451</th>\n",
       "      <th>0.0.6453983</th>\n",
       "      <th>0.0.6562546</th>\n",
       "      <th>0.0.6605459</th>\n",
       "      <th>0.0.6688389</th>\n",
       "      <th>0.0.6689352</th>\n",
       "      <th>0.0.6712571</th>\n",
       "      <th>0.0.6739638</th>\n",
       "    </tr>\n",
       "  </thead>\n",
       "  <tbody>\n",
       "  </tbody>\n",
       "</table>\n",
       "<p>0 rows × 1405 columns</p>\n",
       "</div>"
      ],
      "text/plain": [
       "Empty DataFrame\n",
       "Columns: [account id, 0.0.475254, 0.0.475255, 0.0.475256, 0.0.488087, 0.0.495216, 0.0.497204, 0.0.505777, 0.0.506899, 0.0.508627, 0.0.509606, 0.0.510563, 0.0.511406, 0.0.511414, 0.0.511541, 0.0.512517, 0.0.512728, 0.0.513547, 0.0.514379, 0.0.515181, 0.0.515335, 0.0.515338, 0.0.515340, 0.0.515341, 0.0.515342, 0.0.515343, 0.0.515344, 0.0.516216, 0.0.517874, 0.0.517885, 0.0.517896, 0.0.518692, 0.0.529468, 0.0.529585, 0.0.536777, 0.0.539427, 0.0.540070, 0.0.550134, 0.0.550186, 0.0.550246, 0.0.550273, 0.0.555336, 0.0.557791, 0.0.562847, 0.0.563000, 0.0.566722, 0.0.576244, 0.0.577158, 0.0.577796, 0.0.577811, 0.0.577820, 0.0.577828, 0.0.577837, 0.0.578827, 0.0.581896, 0.0.583572, 0.0.585801, 0.0.586381, 0.0.586610, 0.0.586615, 0.0.586631, 0.0.588665, 0.0.589455, 0.0.589685, 0.0.590540, 0.0.590547, 0.0.590552, 0.0.590918, 0.0.592034, 0.0.592064, 0.0.592237, 0.0.592885, 0.0.594057, 0.0.594837, 0.0.596194, 0.0.597385, 0.0.597388, 0.0.597389, 0.0.597393, 0.0.597396, 0.0.597398, 0.0.597399, 0.0.598008, 0.0.599043, 0.0.600311, 0.0.600321, 0.0.601824, 0.0.602459, 0.0.602992, 0.0.603016, 0.0.603025, 0.0.603038, 0.0.603051, 0.0.603116, 0.0.604192, 0.0.605173, 0.0.605174, 0.0.605175, 0.0.605176, 0.0.605177, ...]\n",
       "Index: []\n",
       "\n",
       "[0 rows x 1405 columns]"
      ]
     },
     "execution_count": 7,
     "metadata": {},
     "output_type": "execute_result"
    }
   ],
   "source": [
    "tokens_df = pd.DataFrame(columns=tokens)\n",
    "tokens_df.to_csv('data.csv', header=True, index=False)\n",
    "tokens_df"
   ]
  },
  {
   "cell_type": "markdown",
   "metadata": {},
   "source": [
    "Append account id and corresponding balances to tokens to csv file for all accounts and their balances"
   ]
  },
  {
   "cell_type": "code",
   "execution_count": 8,
   "metadata": {},
   "outputs": [],
   "source": [
    "for account in accounts:\n",
    "    account_id_df = pd.DataFrame([[account_id]], columns=['account_id'])\n",
    "    account_id_df\n",
    "    currAccount = accounts[account]\n",
    "    row = np.zeros(len(tokens)-1, dtype=object)\n",
    "    row = np.insert(row, 0, account)\n",
    "    for token_id, balance in currAccount.items():\n",
    "        token_idx = tokens.index(token_id.strip())\n",
    "        row[token_idx] = balance\n",
    "        #print(account, token_id, balance)\n",
    "    #print(account, np.unique(row, return_index=True))\n",
    "    row_df = pd.DataFrame(row)\n",
    "    row_df = row_df.T\n",
    "    #row_df = row_df.astype(int)\n",
    "    #print(row_df.head(10))\n",
    "    row_df.to_csv('data.csv', mode='a', header=False, index=False)"
   ]
  },
  {
   "cell_type": "markdown",
   "metadata": {},
   "source": [
    "data.csv now contains our final structured, filtered, and cleaned data"
   ]
  }
 ],
 "metadata": {
  "kernelspec": {
   "display_name": "Python 3",
   "language": "python",
   "name": "python3"
  },
  "language_info": {
   "codemirror_mode": {
    "name": "ipython",
    "version": 3
   },
   "file_extension": ".py",
   "mimetype": "text/x-python",
   "name": "python",
   "nbconvert_exporter": "python",
   "pygments_lexer": "ipython3",
   "version": "3.11.7"
  }
 },
 "nbformat": 4,
 "nbformat_minor": 2
}
